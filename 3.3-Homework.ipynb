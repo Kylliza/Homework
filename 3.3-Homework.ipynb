{
 "cells": [
  {
   "cell_type": "code",
   "execution_count": null,
   "metadata": {},
   "outputs": [],
   "source": [
    "#3.1\n",
    "age = 1\n",
    "\n",
    "if age >= 25:\n",
    "    print('Renting a car is more affordable')\n",
    "\n",
    "if age < 25:\n",
    "    print('Renting a car is very expensive.')"
   ]
  },
  {
   "cell_type": "code",
   "execution_count": null,
   "metadata": {},
   "outputs": [],
   "source": [
    "#3.2\n",
    "if age >= 25:\n",
    "    print('Renting a car is more affordable')\n",
    "elif age >= 18:\n",
    "    print('Renting a car is very expensive')\n",
    "\n",
    "else: \n",
    "    print('You cannot legally rent a car')\n",
    "\n"
   ]
  },
  {
   "cell_type": "code",
   "execution_count": null,
   "metadata": {},
   "outputs": [],
   "source": [
    "#3.3\n",
    "vowels = 'a''e''i''o''u'\n",
    "count = 0\n",
    "string = 'The quick brown fox jumps over the lazy dog'\n",
    "\n",
    "for char in string:\n",
    "    count += 1\n",
    "\n",
    "print(count)\n",
    "\n",
    "for char in string:\n",
    "    if char in vowels:\n",
    "        print(char)"
   ]
  },
  {
   "cell_type": "code",
   "execution_count": null,
   "metadata": {},
   "outputs": [],
   "source": [
    "#3.4\n",
    "couture = [\"trousers\", \"blouse\", \"bandana\", \"cumber band\", \n",
    "            \"blazer\", \"vest\", \"french beret\", \"scarf\", \"stole\"]\n",
    "\n",
    "panettone = {\"cerise\", \"fuchsia\", \"aqua\", \"maple\", \"auburn\", \n",
    "            \"burnt sienna\", \"gunmetal blue\", \"Dark Sapphire\"}\n",
    "\n",
    "for charmanders in panettone:\n",
    "    for charmeleons in couture:\n",
    "        print(charmanders, charmeleons)"
   ]
  },
  {
   "cell_type": "code",
   "execution_count": null,
   "metadata": {},
   "outputs": [],
   "source": [
    "#3.5\n",
    "x = 0\n",
    "\n",
    "for i in range(1,101):\n",
    "    x += i\n",
    "\n",
    "print(x)"
   ]
  },
  {
   "cell_type": "code",
   "execution_count": null,
   "metadata": {},
   "outputs": [],
   "source": [
    "#3.6\n",
    "list = [\"apple\", \"banana\", \"cherry\"]\n",
    "\n",
    "print(list[2])"
   ]
  },
  {
   "cell_type": "code",
   "execution_count": null,
   "metadata": {},
   "outputs": [],
   "source": [
    "#3.7\n",
    "list2 = [\"apple\", \"banana\", \"cherry\"]\n",
    "print(list2.index(\"apple\"))\n",
    "\n",
    "list2[0] = \"kiwi\"\n",
    "print(list2)"
   ]
  },
  {
   "cell_type": "code",
   "execution_count": null,
   "metadata": {},
   "outputs": [],
   "source": [
    "#3.8\n",
    "# list.append('orange')\n",
    "# print(list)\n",
    "#x2 oranges?\n",
    "\n",
    "list3 = [\"apple\", \"banana\", \"cherry\"]\n",
    "list3.append('orange')\n",
    "print(list3)"
   ]
  },
  {
   "cell_type": "code",
   "execution_count": null,
   "metadata": {},
   "outputs": [],
   "source": [
    "#3.9\n",
    "list4 = [\"apple\", \"banana\", \"cherry\"]\n",
    "list4.insert(1, 'lemon')\n",
    "print(list4)"
   ]
  },
  {
   "cell_type": "code",
   "execution_count": null,
   "metadata": {},
   "outputs": [],
   "source": [
    "#3.10\n",
    "list4.remove('banana')\n",
    "print(list4)"
   ]
  },
  {
   "cell_type": "code",
   "execution_count": null,
   "metadata": {},
   "outputs": [],
   "source": [
    "#3.11\n",
    "list5 =  [\"apple\", \"banana\", \"cherry\", \"orange\",\n",
    "         \"kiwi\", \"melon\", \"mango\"]\n",
    "print(list5 [-3:-1])"
   ]
  },
  {
   "cell_type": "code",
   "execution_count": null,
   "metadata": {},
   "outputs": [],
   "source": [
    "#3.12\n",
    "l6 = [\"apple\", \"banana\", \"cherry\", \"orange\",\n",
    "         \"kiwi\", \"melon\", \"mango\"]\n",
    "print(l6[2:5])"
   ]
  },
  {
   "cell_type": "code",
   "execution_count": null,
   "metadata": {},
   "outputs": [],
   "source": [
    "#3.13\n",
    "listLength = len(l6)\n",
    "print(listLength)\n",
    "\n",
    "print(len(l6))"
   ]
  },
  {
   "cell_type": "code",
   "execution_count": null,
   "metadata": {},
   "outputs": [],
   "source": [
    "#3.14\n",
    "l7 = [\"apple\", \"banana\", \"cherry\", \"orange\", \"kiwi\", \n",
    "        \"melon\", \"mango\"]\n",
    "l7.sort(reverse=True)\n",
    "print(l7)"
   ]
  }
 ],
 "metadata": {
  "kernelspec": {
   "display_name": "Python 3",
   "language": "python",
   "name": "python3"
  },
  "language_info": {
   "codemirror_mode": {
    "name": "ipython",
    "version": 3
   },
   "file_extension": ".py",
   "mimetype": "text/x-python",
   "name": "python",
   "nbconvert_exporter": "python",
   "pygments_lexer": "ipython3",
   "version": "3.11.1"
  },
  "orig_nbformat": 4,
  "vscode": {
   "interpreter": {
    "hash": "cc023e08409d3c363e1b8462bd785f053839683bfbb2acac275974a037729574"
   }
  }
 },
 "nbformat": 4,
 "nbformat_minor": 2
}
