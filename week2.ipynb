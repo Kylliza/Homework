{
 "cells": [
  {
   "attachments": {},
   "cell_type": "markdown",
   "metadata": {},
   "source": [
    "# What is an algorithm?\n",
    "\n",
    "<font color=lightblue>Is a process used to solve a problem or perform computation. Reminds of YouTube algorithm and suggested \"anything\". Like not just videos but also in other websites like amazon, \"suggested for you\" or \"based on your search\". I don't know if cookies also affect this and if they are sort of like an\n",
    "algorithm??"
   ]
  },
  {
   "attachments": {},
   "cell_type": "markdown",
   "metadata": {},
   "source": [
    "# Why is Python considered to be a high-level language?\n",
    "\n",
    "It is considered a high-level language because is \"simple and easy to use and understand\". It can run on all platforms and has many libraries, easy to access. Designed to be used by the human operator or programmer. So, I guess it is simple to learn and hard to master. Like learning the four magic hits cords but harder to master every other cord in a guitar? ~~(just my thought)~~"
   ]
  },
  {
   "attachments": {},
   "cell_type": "markdown",
   "metadata": {},
   "source": [
    "# Is Python and Natural or a Formal language?\n",
    "\n",
    "<font color = red>*Python is a Formal language.*"
   ]
  },
  {
   "attachments": {},
   "cell_type": "markdown",
   "metadata": {},
   "source": [
    "\n",
    "# Variable names may not start with certain characters - name two.\n",
    "\n",
    "Numbers and special characters:\n",
    "* 0\n",
    "* !"
   ]
  },
  {
   "attachments": {},
   "cell_type": "markdown",
   "metadata": {},
   "source": [
    "# What is a semantic error?\n",
    "\n",
    "`<p>Is when you have text that is correct but makes no sense, the statement does not make sense. What you wrote is not what you wanted to express.</p>` \n"
   ]
  },
  {
   "attachments": {},
   "cell_type": "markdown",
   "metadata": {},
   "source": [
    "# What is the #1 rule of coding / debugging?\n",
    "\n",
    "Assume nothing? If it works don't touch it, read the stack carefully. <mark>So, I guess this is subjective?<mark>"
   ]
  },
  {
   "attachments": {},
   "cell_type": "markdown",
   "metadata": {},
   "source": [
    "# List 5 Python reserved words.\n",
    "\n",
    "* as\n",
    "* except\n",
    "* with\n",
    "* assert\n",
    "* finally"
   ]
  },
  {
   "attachments": {},
   "cell_type": "markdown",
   "metadata": {},
   "source": [
    "# Add and name, a web link for any Python coding article, in your markdown cell.\n",
    "\n",
    "[PY4E](https://www.py4e.com/) "
   ]
  },
  {
   "attachments": {},
   "cell_type": "markdown",
   "metadata": {},
   "source": [
    "<img src=\"blastoise.png\">"
   ]
  },
  {
   "cell_type": "code",
   "execution_count": null,
   "metadata": {},
   "outputs": [],
   "source": [
    "#import colorama\n",
    "#from colorama import Fore\n",
    "x = \"My favorite Pokémon is...\"\n",
    "y = \"Blastoise!\"\n",
    "print(x + y)\n"
   ]
  }
 ],
 "metadata": {
  "kernelspec": {
   "display_name": "Python 3",
   "language": "python",
   "name": "python3"
  },
  "language_info": {
   "name": "python",
   "version": "3.11.1"
  },
  "orig_nbformat": 4,
  "vscode": {
   "interpreter": {
    "hash": "cc023e08409d3c363e1b8462bd785f053839683bfbb2acac275974a037729574"
   }
  }
 },
 "nbformat": 4,
 "nbformat_minor": 2
}
