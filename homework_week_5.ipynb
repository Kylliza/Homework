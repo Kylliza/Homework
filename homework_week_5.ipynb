{
 "cells": [
  {
   "attachments": {},
   "cell_type": "markdown",
   "metadata": {},
   "source": [
    "# 5. Python Homework"
   ]
  },
  {
   "attachments": {},
   "cell_type": "markdown",
   "metadata": {},
   "source": [
    "# 1. What does Pandas stand for?\n",
    "\n",
    "- The name Pandas comes from panel data and is used to describe data sets and analize them. Is a library of Python. "
   ]
  },
  {
   "attachments": {},
   "cell_type": "markdown",
   "metadata": {},
   "source": [
    "# 2. What are the 2 collections used in Pandas?\n",
    "\n",
    "- Series\n",
    "- DataFrame"
   ]
  },
  {
   "attachments": {},
   "cell_type": "markdown",
   "metadata": {},
   "source": [
    "# 3. Name 4 things Pandas can do for us.\n",
    "- Data Cleaning\n",
    "- Data Analysis\n",
    "- Data Transformation\n",
    "- Data Input and Output\n"
   ]
  },
  {
   "attachments": {},
   "cell_type": "markdown",
   "metadata": {},
   "source": [
    "# 4. To permanently sort a DataFrame, which keyword should one use with the df.sort() method?\n",
    "- x = df.sort_value(by = ?, inplace=true?)"
   ]
  },
  {
   "attachments": {},
   "cell_type": "markdown",
   "metadata": {},
   "source": [
    "# 5. What is a CSV\n",
    "-  Is a plain text file formated by comma separated values."
   ]
  },
  {
   "attachments": {},
   "cell_type": "markdown",
   "metadata": {},
   "source": [
    "# 6. When cleaning data what values do we not like in our data?\n",
    "- Null"
   ]
  },
  {
   "attachments": {},
   "cell_type": "markdown",
   "metadata": {},
   "source": [
    "# CODING EXERCISES"
   ]
  },
  {
   "cell_type": "code",
   "execution_count": 6,
   "metadata": {},
   "outputs": [
    {
     "name": "stdout",
     "output_type": "stream",
     "text": [
      "[[25 16]\n",
      " [11  2]\n",
      " [13  4]\n",
      " [ 7 81]\n",
      " [ 5  6]\n",
      " [11 12]]\n"
     ]
    }
   ],
   "source": [
    "# 1. Concatenate these 3 arrays into a new array named 'newArray'...\n",
    "\n",
    "import numpy as np\n",
    "\n",
    "array1 = np.array ([[25, 16]])\n",
    "array2 = np.array ([[11, 2], [13, 4]])\n",
    "array3 = np.array ([[7, 81], [5, 6], [11, 12]])\n",
    "\n",
    "newArray = np.concatenate([array1, array2, array3])\n",
    "print (newArray)"
   ]
  },
  {
   "cell_type": "code",
   "execution_count": 9,
   "metadata": {},
   "outputs": [
    {
     "name": "stdout",
     "output_type": "stream",
     "text": [
      "[[16 25]\n",
      " [ 2 11]\n",
      " [ 4 13]\n",
      " [ 7 81]\n",
      " [ 5  6]\n",
      " [11 12]]\n"
     ]
    }
   ],
   "source": [
    "#2. Sort 'newArray' in order into 'sortedArray'\n",
    "\n",
    "sortedArray = np.sort(newArray)\n",
    "\n",
    "print(sortedArray)\n"
   ]
  },
  {
   "cell_type": "code",
   "execution_count": 20,
   "metadata": {},
   "outputs": [
    {
     "name": "stdout",
     "output_type": "stream",
     "text": [
      "[[0 1 2]\n",
      " [3 4 5]]\n"
     ]
    }
   ],
   "source": [
    "#3 Reshape the 'sortedArray' array, into a new array called 'reshapedArray', so it has 2 dimensions with a size of 2, 3.\n",
    "\n",
    "reshapedArray = np.arange(6).reshape((2, 3)) #why double parenthesis, using the curriculum as reference 4.2\n",
    "print(reshapedArray)"
   ]
  },
  {
   "cell_type": "code",
   "execution_count": 23,
   "metadata": {},
   "outputs": [
    {
     "name": "stdout",
     "output_type": "stream",
     "text": [
      "[0 1 2]\n",
      "[3 4 5]\n",
      "0 1 2\n"
     ]
    }
   ],
   "source": [
    "#4. Unpack the array tuples from the above 'reshapedArray' into 4 well named variables. Print the 4 variables.\n",
    "\n",
    "a, b = reshapedArray\n",
    "a1, a2, a3 = a\n",
    "\n",
    "print(a)\n",
    "print(b)\n",
    "print(a1, a2, a3)\n",
    "\n",
    "# idk if this makes sense I am following the curriculum at this\n",
    "# point, I know is asking me for 4 but couldn't get it right\n"
   ]
  },
  {
   "cell_type": "code",
   "execution_count": 28,
   "metadata": {},
   "outputs": [
    {
     "name": "stdout",
     "output_type": "stream",
     "text": [
      "[10 11 12 13 14 15 16 17 20 21 22 23 24 25 26 27  0  1  2  3  4  5  6  7]\n"
     ]
    }
   ],
   "source": [
    "# 5. Combined and sort the following arrays into one called 'comboArray\n",
    "\n",
    "import numpy as np\n",
    "\n",
    "one = ([10, 11, 12, 13, 14, 15, 16, 17])\n",
    "two = ([20, 21, 22, 23, 24, 25, 26, 27])\n",
    "three = ([ 0, 1, 2, 3, 4, 5, 6, 7])\n",
    "\n",
    "comboArray = np.concatenate((one, two, three)) #why the parenthesis 2 times? If I do one\n",
    "# gives me an error that it cannot be interpret as an interger or something. Need clarification por favor :S\n",
    "\n",
    "print (comboArray)"
   ]
  },
  {
   "cell_type": "code",
   "execution_count": 45,
   "metadata": {},
   "outputs": [
    {
     "name": "stdout",
     "output_type": "stream",
     "text": [
      "24\n",
      "11\n",
      "[12 13 14 15 16 17 20 21 22 23 24 25 26 27  0  1  2  3  4  5  6  7]\n",
      "[13 14 15 16 17 20 21 22 23 24 25 26]\n",
      "[2 3 4 5 6 7]\n",
      "[17 20 21 22 23 24 25 26 27  0  1  2  3  4  5  6]\n",
      "[10 12 14 16 20 22 24 26  0  2  4  6]\n",
      "[7]\n"
     ]
    }
   ],
   "source": [
    "# 6.Take 'comboArray' and perform the following slicing activities:\n",
    "\n",
    "import numpy as np\n",
    "\n",
    "checkingthelength = len(comboArray)\n",
    "print (checkingthelength)\n",
    "\n",
    "print(comboArray [1])\n",
    "print(comboArray [2: ])\n",
    "print(comboArray [3:15])\n",
    "print(comboArray [-6:])\n",
    "print(comboArray [-17:-1]) #?\n",
    "print(comboArray [0::2]) #?\n",
    "print(comboArray [-1::5]) #? "
   ]
  },
  {
   "cell_type": "code",
   "execution_count": 49,
   "metadata": {},
   "outputs": [
    {
     "name": "stdout",
     "output_type": "stream",
     "text": [
      "[[[0.00000e+00 0.00000e+00 1.07000e+00]\n",
      "  [1.70000e+02 7.21000e+02 1.07107e+02]]\n",
      "\n",
      " [[3.40000e+02 1.40140e+03 2.15070e+02]\n",
      "  [5.10000e+02 2.17000e+03 3.24210e+02]]\n",
      "\n",
      " [[6.86800e+02 1.68000e+03 4.28000e+02]\n",
      "  [2.55000e+02 1.08500e+03 2.72850e+02]]]\n",
      "[[[ 17.    70.    10.8 ]\n",
      "  [ 27.    80.3   20.71]]\n",
      "\n",
      " [[ 37.    90.02  30.8 ]\n",
      "  [ 47.   101.    41.  ]]\n",
      "\n",
      " [[ 57.4   94.    50.7 ]\n",
      "  [ 32.    85.5   36.2 ]]]\n",
      "[[[0.         0.         0.00934579]\n",
      "  [0.58823529 0.14714286 0.93551402]]\n",
      "\n",
      " [[1.17647059 0.286      1.87850467]\n",
      "  [1.76470588 0.44285714 2.8317757 ]]\n",
      "\n",
      " [[2.37647059 0.34285714 3.73831776]\n",
      "  [0.88235294 0.22142857 2.38317757]]]\n"
     ]
    }
   ],
   "source": [
    "import numpy as np\n",
    "\n",
    "array4 = np.array([[[ 0.0,  0.0,  0.10], [10.0, 10.30, 10.01]],\n",
    "        [[20.0, 20.02, 20.10], [30.0, 31.0, 30.30]],\n",
    "        [[40.40, 24.0, 40.0], [15.0, 15.5, 25.5]]])\n",
    "\n",
    "array5 = np.array([[17.0, 70.0, 10.7]])\n",
    "\n",
    "print ((array4*array5))\n",
    "print ((array4+array5))\n",
    "print ((array4/array5))\n",
    "\n"
   ]
  },
  {
   "cell_type": "code",
   "execution_count": 50,
   "metadata": {},
   "outputs": [
    {
     "name": "stdout",
     "output_type": "stream",
     "text": [
      "[[[-17.   -70.   -10.6 ]\n",
      "  [ -7.   -59.7   -0.69]]\n",
      "\n",
      " [[  3.   -49.98   9.4 ]\n",
      "  [ 13.   -39.    19.6 ]]\n",
      "\n",
      " [[ 23.4  -46.    29.3 ]\n",
      "  [ -2.   -54.5   14.8 ]]]\n"
     ]
    }
   ],
   "source": [
    "#8. Use the NumPy Arithmetic functions to do the subtraction of the above two arrays in pont #7\n",
    "\n",
    "import numpy as np\n",
    "\n",
    "subtraction = np.subtract(array4, array5)\n",
    "\n",
    "print(subtraction)"
   ]
  },
  {
   "cell_type": "code",
   "execution_count": 58,
   "metadata": {},
   "outputs": [
    {
     "name": "stdout",
     "output_type": "stream",
     "text": [
      "(array([ 0.,  0., 30., 24., 15.]), array([], dtype=float64))\n"
     ]
    }
   ],
   "source": [
    "#9. Using modulo find all elements that are divisible by 3 from the multi-dimensional array under point #7 above.\n",
    "import numpy as np\n",
    "\n",
    "\n",
    "divisible_by_3 = array4[array4 % 3 == 0], array5[array5 % 3 == 0]#no clue...\n",
    "\n",
    "print(divisible_by_3)\n"
   ]
  },
  {
   "attachments": {},
   "cell_type": "markdown",
   "metadata": {},
   "source": [
    "#10. Using Series, create a DataFrame that looks like this:\n",
    "\n",
    "Ingredients\tQuantity\tUnit\n",
    "Flour\t4\tcups\n",
    "Milk\t1\tcup\n",
    "Eggs\t2\tlarge\n",
    "Spam\t1\tcan\n",
    "Name: Dinner, dtype: object"
   ]
  },
  {
   "cell_type": "code",
   "execution_count": 62,
   "metadata": {},
   "outputs": [
    {
     "name": "stdout",
     "output_type": "stream",
     "text": [
      "  Ingridients  Quantity   Unit\n",
      "0       Flour         4   cups\n",
      "1        Milk         1    cup\n",
      "2        Eggs         2  large\n",
      "3        Spam         1    can\n"
     ]
    }
   ],
   "source": [
    "import pandas as pd\n",
    "\n",
    "Ingredients = pd.Series([\"Flour\", \"Milk\", \"Eggs\", \"Spam\"], name='Ingridients')\n",
    "Quantity = pd.Series([4, 1, 2, 1], name='Quantity')\n",
    "Unit = pd.Series(['cups', 'cup', 'large', 'can'], name='Unit')\n",
    "\n",
    "Dinner = pd.concat([Ingredients, Quantity, Unit], axis=1)\n",
    "\n",
    "print(Dinner)"
   ]
  },
  {
   "cell_type": "code",
   "execution_count": 68,
   "metadata": {},
   "outputs": [
    {
     "name": "stdout",
     "output_type": "stream",
     "text": [
      "      Name  Height Qualification  address  Age        Pets           sport\n",
      "0      Jai     5.1           Msc    Delhi   21         Dog           Darts\n",
      "1  janusha     6.2            MA     Doha   23       Bunny      Basketball\n",
      "2   Gaurav     5.1           Msc  Chennai   24  Chinchilla  PaddleBoarding\n",
      "3     Anuj     5.2           Msc   Dakhar   21      Parrot         Cricket\n"
     ]
    }
   ],
   "source": [
    "# #11.Take this data and create a DataFrame named studentData\n",
    "\n",
    "# import pandas as pd\n",
    "\n",
    "# Names = pd.Series(['Jai', 'Janusha', 'Gaurav', 'Anuj'], name = 'Name')\n",
    "# Height = pd.Series([5.1, 6.2, 5.1, 5.2], name = 'Height')\n",
    "# Qualification = pd.Series (['Msc', 'MA', 'Msc', 'Msc'], name = 'Qualification')\n",
    "# Address = pd.Series(['Delhi', 'Doha', 'Chennai', 'Dakhar'], name = 'Address')\n",
    "# Age = pd.Series([21, 23, 24, 21], name = 'Age')\n",
    "# Pets = pd.Series(['Dog', 'Bunny', 'Chinchilla', 'Parrot'], name = 'Pets')\n",
    "# Sport = pd.Series(['Darts', 'Basketball', 'PaddleBoarding', 'Cricket'], name = \"Sports\")\n",
    "\n",
    "# StudentData = pd.concat([Names, Height, Qualification, Address, Age, Pets, Sport], axis=1)\n",
    "\n",
    "# print(StudentData)\n",
    "\n",
    "# # {'Name': ['Jai', 'janusha', 'Gaurav', 'Anuj'],\n",
    "# #         'Height': [5.1, 6.2, 5.1, 5.2],\n",
    "# #         'Qualification': ['Msc', 'MA', 'Msc', 'Msc'],\n",
    "# #         'address': ['Delhi', 'Doha', 'Chennai', 'Dakhar'],\n",
    "# #         'Age': [21, 23, 24, 21],\n",
    "# #         'Pets': ['Dog', 'Bunny', 'Chinchilla', 'Parrot'],\n",
    "# #         'sport': ['Darts', 'Basketball', 'PaddleBoarding', 'Cricket']\n",
    "# #     }\n",
    "\n",
    "#whoops, in the curriculum there is a dataframe section redoing, just don't want to delete for my future reference \n",
    "\n",
    "import pandas as pd\n",
    "\n",
    "info = {'Name': ['Jai', 'janusha', 'Gaurav', 'Anuj'],\n",
    "        'Height': [5.1, 6.2, 5.1, 5.2],\n",
    "        'Qualification': ['Msc', 'MA', 'Msc', 'Msc'],\n",
    "        'address': ['Delhi', 'Doha', 'Chennai', 'Dakhar'],\n",
    "        'Age': [21, 23, 24, 21],\n",
    "        'Pets': ['Dog', 'Bunny', 'Chinchilla', 'Parrot'],\n",
    "        'sport': ['Darts', 'Basketball', 'PaddleBoarding', 'Cricket']\n",
    "    }\n",
    "\n",
    "StudentData = pd.DataFrame(info)\n",
    "\n",
    "print (StudentData)"
   ]
  },
  {
   "cell_type": "code",
   "execution_count": 74,
   "metadata": {},
   "outputs": [
    {
     "name": "stdout",
     "output_type": "stream",
     "text": [
      "      Name  Height Qualification  address  Age        Pets           sport  \\\n",
      "0      Jai     5.1           Msc    Delhi   21         Dog           Darts   \n",
      "1  janusha     6.2            MA     Doha   23       Bunny      Basketball   \n",
      "2   Gaurav     5.1           Msc  Chennai   24  Chinchilla  PaddleBoarding   \n",
      "3     Anuj     5.2           Msc   Dakhar   21      Parrot         Cricket   \n",
      "\n",
      "       Desserts  \n",
      "0     Ice cream  \n",
      "1  Cashew Fudge  \n",
      "2       Waffels  \n",
      "3  Carrot Halwa  \n"
     ]
    }
   ],
   "source": [
    "# 12. Add a new column to the DataFrame with the following deserts: [\"ice cream\", \"Cashew Fudge\", \"waffels\", \"Carrot Halwa\"]\n",
    "\n",
    "Desserts = pd.Series([\"Ice cream\", \"Cashew Fudge\", \"Waffels\", \"Carrot Halwa\"], name = 'Desserts')\n",
    "\n",
    "# StudentData.insert(Desserts, name = 'Desserts', axis=1)\n",
    "\n",
    "# print(StudentData)\n",
    "\n",
    "StudentData['Desserts'] = Desserts\n",
    "\n",
    "print(StudentData)"
   ]
  },
  {
   "cell_type": "code",
   "execution_count": 79,
   "metadata": {},
   "outputs": [
    {
     "name": "stdout",
     "output_type": "stream",
     "text": [
      "      Name  Height Qualification  address  Age        Pets           sport  \\\n",
      "3     Anuj     5.2           Msc   Dakhar   21      Parrot         Cricket   \n",
      "2   Gaurav     5.1           Msc  Chennai   24  Chinchilla  PaddleBoarding   \n",
      "0      Jai     5.1           Msc    Delhi   21         Dog           Darts   \n",
      "1  janusha     6.2            MA     Doha   23       Bunny      Basketball   \n",
      "\n",
      "       Desserts  \n",
      "3  Carrot Halwa  \n",
      "2       Waffels  \n",
      "0     Ice cream  \n",
      "1  Cashew Fudge  \n"
     ]
    }
   ],
   "source": [
    "#13. Sort the 'studentData' DataFrame in Ascending order -- Sorting by column 'Name' and then \"address\"\n",
    "\n",
    "StudentData.sort_values(by = ['Name', 'address'], inplace = True)\n",
    "\n",
    "# StudentData.sort_values(by = ['address'], inplace = True)\n",
    "\n",
    "# i think my code is right but is not sorting the addresses....HEEEELP! MY BrAiNssss hurts :(\n",
    "\n",
    "print(StudentData)"
   ]
  },
  {
   "cell_type": "code",
   "execution_count": 80,
   "metadata": {},
   "outputs": [],
   "source": [
    "# 14.Save this DataFrame here below to disc as a .CSV file with the name cows_and_goats.csv:\n",
    "\n",
    "df = pd.DataFrame({'Cows': [12, 20], 'Goats': [22, 19]}, index=['Year 1', 'Year 2'])\n",
    "\n",
    "df.to_csv('cows_and_goats.csv')\n",
    "\n"
   ]
  },
  {
   "cell_type": "code",
   "execution_count": 85,
   "metadata": {},
   "outputs": [
    {
     "name": "stdout",
     "output_type": "stream",
     "text": [
      "  Vegetable In a Hamburger In a Salad\n",
      "0   Lettuce            Yes        Yes\n",
      "1    Tomato          Maybe        Yes\n",
      "2     Onion       NoPeNope         No\n"
     ]
    }
   ],
   "source": [
    "#15. (A) Using Pandas, make your own .CSV file with data on vegetables and save it. (B) Using Pandas, make a change to your CSV file, and save a copy with a different name.\n",
    "\n",
    "#A\n",
    "\n",
    "info2 = {'Vegetable': ['Lettuce', 'Tomato', 'Onion'],\n",
    "         'In a Hamburger': ['Yes', 'Maybe', 'NoPeNope'], \n",
    "         'In a Salad': ['Yes', 'Yes', 'No']\n",
    "         }\n",
    "Vegetables = pd.DataFrame(info2)\n",
    "\n",
    "print (Vegetables)\n",
    "\n",
    "Vegetables.to_csv('Vegetables.csv') #DONE\n",
    "\n",
    "#B\n",
    "\n",
    "VegetablesCopy = pd.read_csv('Vegetables.csv')\n",
    "VegetablesCopy.sort_values(by = [\"Vegetable\"], inplace=True)\n",
    "\n",
    "VegetablesCopy.to_csv('VegetablesCopy.csv')\n",
    "\n",
    "\n"
   ]
  }
 ],
 "metadata": {
  "kernelspec": {
   "display_name": "Python 3",
   "language": "python",
   "name": "python3"
  },
  "language_info": {
   "codemirror_mode": {
    "name": "ipython",
    "version": 3
   },
   "file_extension": ".py",
   "mimetype": "text/x-python",
   "name": "python",
   "nbconvert_exporter": "python",
   "pygments_lexer": "ipython3",
   "version": "3.11.2"
  },
  "orig_nbformat": 4,
  "vscode": {
   "interpreter": {
    "hash": "cc023e08409d3c363e1b8462bd785f053839683bfbb2acac275974a037729574"
   }
  }
 },
 "nbformat": 4,
 "nbformat_minor": 2
}
