{
 "cells": [
  {
   "attachments": {},
   "cell_type": "markdown",
   "metadata": {},
   "source": [
    "--What is a student's average grade \n",
    "-- 87.6\n",
    "\n",
    "--What department has the highest average grade\n",
    " -- IT\n",
    "\n",
    "--What student has the single highest grade \n",
    " --Maria\n",
    "\n",
    "select s.StudentName as \"Student Name\"\n",
    "\t\t,c.SubjectName as \"Class\"\n",
    "\t\t,d.departmentName as \"Department Name\"\n",
    "\t\t,g.Grade as \"Result\"\n",
    "\t\t,avg(g.grade) as \"GPA\" \n",
    "\tfrom Grades g\n",
    "\tinner join Students s\n",
    "\t\ton g.StudentId = s.StudentId\n",
    "\tinner join Subjects c \n",
    "\t\ton g.SubjectId = c.SubjectId\n",
    "\tinner join departments d \n",
    "\t\ton d.DepartmentId = c.DepartmentId\t\n",
    "\tGROUP BY s.StudentName\n",
    "\tORDER BY avg(g.grade) desc\n",
    "\n",
    "\n",
    "    Used the SQL file provided in class when we were doing the pre-homework work / questions section last week. "
   ]
  }
 ],
 "metadata": {
  "language_info": {
   "name": "python"
  },
  "orig_nbformat": 4
 },
 "nbformat": 4,
 "nbformat_minor": 2
}
