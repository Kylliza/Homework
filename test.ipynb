{
 "cells": [
  {
   "cell_type": "markdown",
   "metadata": {},
   "source": []
  },
  {
   "cell_type": "code",
   "execution_count": 2,
   "metadata": {},
   "outputs": [
    {
     "name": "stdout",
     "output_type": "stream",
     "text": [
      "1\n"
     ]
    }
   ],
   "source": [
    "tuple3 = [1, 1, 1, 2] #???\n",
    "\n",
    "#3.5\n",
    "a, b, c, d = tuple3\n",
    "print(a)"
   ]
  },
  {
   "cell_type": "code",
   "execution_count": 3,
   "metadata": {},
   "outputs": [
    {
     "name": "stdout",
     "output_type": "stream",
     "text": [
      "tup10 ... (12, 34.56, 'abc', 'xyz')\n"
     ]
    }
   ],
   "source": [
    "tup8 = (12, 34.56)\n",
    "tup9 = ('abc', 'xyz')\n",
    "tup10 = tup8 + tup9\n",
    "print(\"tup10 ...\", tup10)"
   ]
  },
  {
   "cell_type": "code",
   "execution_count": 9,
   "metadata": {},
   "outputs": [
    {
     "name": "stdout",
     "output_type": "stream",
     "text": [
      "{1, 2, 3, 'delicious orange'}\n"
     ]
    }
   ],
   "source": [
    "#Section 4 Sets\n",
    "set1 = {1, 2, 3}\n",
    "#4.1\n",
    "set1.add(\"delicious orange\") #, \"juicy apple\", \"pear, plain and simple pear\"])\n",
    "print (set1)"
   ]
  },
  {
   "cell_type": "code",
   "execution_count": 10,
   "metadata": {},
   "outputs": [
    {
     "name": "stdout",
     "output_type": "stream",
     "text": [
      "{'Warturtle', 'Squirtle'}\n"
     ]
    }
   ],
   "source": [
    "oddset = {\"Squirtle\", \"Warturtle\", \"Blastoise\"}\n",
    "oddset.pop()\n",
    "print(oddset)\n",
    "\n"
   ]
  },
  {
   "cell_type": "code",
   "execution_count": 11,
   "metadata": {},
   "outputs": [
    {
     "name": "stdout",
     "output_type": "stream",
     "text": [
      "set()\n"
     ]
    }
   ],
   "source": [
    "set1 = {1, 2, 3}\n",
    "set1.clear()\n",
    "print (set1)\n"
   ]
  },
  {
   "cell_type": "code",
   "execution_count": 12,
   "metadata": {},
   "outputs": [
    {
     "name": "stdout",
     "output_type": "stream",
     "text": [
      "copied set ... {'igloo', 'mansion', 'tree_house'}\n",
      "cleared set ...  set()\n"
     ]
    }
   ],
   "source": [
    "thisSet2 = {\"mansion\", \"igloo\", \"tree_house\"}\n",
    "\n",
    "copySet = thisSet2.copy()\n",
    "print(\"copied set ...\", copySet)\n",
    "\n",
    "thisSet2.clear()\n",
    "print(\"cleared set ... \", thisSet2)"
   ]
  },
  {
   "cell_type": "code",
   "execution_count": 14,
   "metadata": {},
   "outputs": [
    {
     "ename": "FileNotFoundError",
     "evalue": "[Errno 2] No such file or directory: 'master-ball-sprite.png'",
     "output_type": "error",
     "traceback": [
      "\u001b[1;31m---------------------------------------------------------------------------\u001b[0m",
      "\u001b[1;31mFileNotFoundError\u001b[0m                         Traceback (most recent call last)",
      "Cell \u001b[1;32mIn[14], line 1\u001b[0m\n\u001b[1;32m----> 1\u001b[0m \u001b[39mwith\u001b[39;00m \u001b[39mopen\u001b[39;49m(\u001b[39m\"\u001b[39;49m\u001b[39mmaster-ball-sprite.png\u001b[39;49m\u001b[39m\"\u001b[39;49m, \u001b[39m\"\u001b[39;49m\u001b[39mrb\u001b[39;49m\u001b[39m\"\u001b[39;49m) \u001b[39mas\u001b[39;00m image_file:\n\u001b[0;32m      2\u001b[0m     image_bytes \u001b[39m=\u001b[39m image_file\u001b[39m.\u001b[39mread()\n",
      "File \u001b[1;32m~\\AppData\\Roaming\\Python\\Python311\\site-packages\\IPython\\core\\interactiveshell.py:282\u001b[0m, in \u001b[0;36m_modified_open\u001b[1;34m(file, *args, **kwargs)\u001b[0m\n\u001b[0;32m    275\u001b[0m \u001b[39mif\u001b[39;00m file \u001b[39min\u001b[39;00m {\u001b[39m0\u001b[39m, \u001b[39m1\u001b[39m, \u001b[39m2\u001b[39m}:\n\u001b[0;32m    276\u001b[0m     \u001b[39mraise\u001b[39;00m \u001b[39mValueError\u001b[39;00m(\n\u001b[0;32m    277\u001b[0m         \u001b[39mf\u001b[39m\u001b[39m\"\u001b[39m\u001b[39mIPython won\u001b[39m\u001b[39m'\u001b[39m\u001b[39mt let you open fd=\u001b[39m\u001b[39m{\u001b[39;00mfile\u001b[39m}\u001b[39;00m\u001b[39m by default \u001b[39m\u001b[39m\"\u001b[39m\n\u001b[0;32m    278\u001b[0m         \u001b[39m\"\u001b[39m\u001b[39mas it is likely to crash IPython. If you know what you are doing, \u001b[39m\u001b[39m\"\u001b[39m\n\u001b[0;32m    279\u001b[0m         \u001b[39m\"\u001b[39m\u001b[39myou can use builtins\u001b[39m\u001b[39m'\u001b[39m\u001b[39m open.\u001b[39m\u001b[39m\"\u001b[39m\n\u001b[0;32m    280\u001b[0m     )\n\u001b[1;32m--> 282\u001b[0m \u001b[39mreturn\u001b[39;00m io_open(file, \u001b[39m*\u001b[39;49margs, \u001b[39m*\u001b[39;49m\u001b[39m*\u001b[39;49mkwargs)\n",
      "\u001b[1;31mFileNotFoundError\u001b[0m: [Errno 2] No such file or directory: 'master-ball-sprite.png'"
     ]
    }
   ],
   "source": [
    "# with open(\"master-ball-sprite.png\", \"rb\") as image_file:\n",
    "#     image_bytes = image_file.read()"
   ]
  },
  {
   "cell_type": "code",
   "execution_count": 28,
   "metadata": {},
   "outputs": [
    {
     "name": "stdout",
     "output_type": "stream",
     "text": [
      "{'Pokeball': 'Squirtle', 'Master Ball': 'Mewtwo', '1stGen': 'Alexis'}\n",
      "{'Pokeball': 'Squirtle', 'Master Ball': 'Mewtwo', '1stGen': 'Alexis', 'Favorite color': 'orange'}\n",
      "{'Pokeball': 'Squirtle', 'Master Ball': 'Mewtwo', '1stGen': 'Alexis', 'Favorite color': 'orange', 'List': ['rojo', 'amarillo', 'verde']}\n",
      "{'Pokeball': 'Squirtle', 'Master Ball': 'Mewtwo', '1stGen': 'Alexis', 'Favorite color': 'orange', 'List': ['rojo', 'amarillo', 'verde']}\n",
      "{'Pokeball': 'Squirtle', 'Master Ball': 'Mewtwo', '1stGen': 'Alexis', 'Favorite color': 'orange', 'List': ['rojo', 'amarillo', 'verde']}\n",
      "This is a copy {'Pokeball': 'Squirtle', 'Master Ball': 'Mewtwo', '1stGen': 'Alexis', 'Favorite color': 'orange', 'List': ['rojo', 'amarillo', 'verde']}\n",
      "This list got POPED! {'Pokeball': 'Squirtle', 'Master Ball': 'Mewtwo', '1stGen': 'Alexis', 'Favorite color': 'orange'}\n",
      "This dictionary got purged :( {}\n"
     ]
    }
   ],
   "source": [
    "#Section 5\n",
    "Pokémon = {'Pokeball':\"Squirtle\", 'Master Ball': \"Mewtwo\", '1stGen':1509}\n",
    "\n",
    "#5.1\n",
    "Pokémon.get('Pokeball')\n",
    "\n",
    "#5.2\n",
    "Pokémon['1stGen'] = \"Alexis\"\n",
    "print(Pokémon)\n",
    "\n",
    "#5.3\n",
    "Pokémon.update({'Favorite color': 'orange'})\n",
    "print(Pokémon)\n",
    "\n",
    "#5.4\n",
    "Pokémon.update({'List':['rojo', 'amarillo', 'verde']})\n",
    "print(Pokémon)\n",
    "\n",
    "#5.5\n",
    "Pokémon.keys()\n",
    "print(Pokémon)\n",
    "\n",
    "#5.6\n",
    "Pokémon.values()\n",
    "print(Pokémon)\n",
    "\n",
    "#5.7\n",
    "\n",
    "Johto = Pokémon.copy()\n",
    "print(\"This is a copy\", Johto)\n",
    "\n",
    "#5.8\n",
    "Johto.pop('List')\n",
    "print(\"This list got POPED!\", Johto)\n",
    "\n",
    "#5.9\n",
    "Johto.clear()\n",
    "print(\"This dictionary got purged :(\", Johto)"
   ]
  }
 ],
 "metadata": {
  "kernelspec": {
   "display_name": "Python 3",
   "language": "python",
   "name": "python3"
  },
  "language_info": {
   "codemirror_mode": {
    "name": "ipython",
    "version": 3
   },
   "file_extension": ".py",
   "mimetype": "text/x-python",
   "name": "python",
   "nbconvert_exporter": "python",
   "pygments_lexer": "ipython3",
   "version": "3.11.1"
  },
  "orig_nbformat": 4,
  "vscode": {
   "interpreter": {
    "hash": "cc023e08409d3c363e1b8462bd785f053839683bfbb2acac275974a037729574"
   }
  }
 },
 "nbformat": 4,
 "nbformat_minor": 2
}
